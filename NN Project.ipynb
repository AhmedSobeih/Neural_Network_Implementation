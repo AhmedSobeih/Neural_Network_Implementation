{
 "cells": [
  {
   "cell_type": "code",
   "execution_count": 1,
   "metadata": {
    "id": "gyj5Jf-jv1HG"
   },
   "outputs": [],
   "source": [
    "import numpy as np\n",
    "import pandas as pd\n",
    "import random\n",
    "import matplotlib.pyplot as plt\n",
    "import math"
   ]
  },
  {
   "cell_type": "code",
   "execution_count": 2,
   "metadata": {
    "id": "sA-O18hKwADt"
   },
   "outputs": [],
   "source": [
    "df = pd.read_csv(\"data_banknote_authentication.txt\", \n",
    "                  sep=',', \n",
    "                  names=[\"Variance\", \"Skewness\", \"Curtosis\", \"Entropy\", \"Class\"])"
   ]
  },
  {
   "cell_type": "code",
   "execution_count": 3,
   "metadata": {
    "colab": {
     "base_uri": "https://localhost:8080/",
     "height": 206
    },
    "id": "-PnBM79CwL37",
    "outputId": "d9f38521-e38e-413b-ed89-1b0af71d4cfd"
   },
   "outputs": [
    {
     "data": {
      "text/html": [
       "<div>\n",
       "<style scoped>\n",
       "    .dataframe tbody tr th:only-of-type {\n",
       "        vertical-align: middle;\n",
       "    }\n",
       "\n",
       "    .dataframe tbody tr th {\n",
       "        vertical-align: top;\n",
       "    }\n",
       "\n",
       "    .dataframe thead th {\n",
       "        text-align: right;\n",
       "    }\n",
       "</style>\n",
       "<table border=\"1\" class=\"dataframe\">\n",
       "  <thead>\n",
       "    <tr style=\"text-align: right;\">\n",
       "      <th></th>\n",
       "      <th>Variance</th>\n",
       "      <th>Skewness</th>\n",
       "      <th>Curtosis</th>\n",
       "      <th>Entropy</th>\n",
       "      <th>Class</th>\n",
       "    </tr>\n",
       "  </thead>\n",
       "  <tbody>\n",
       "    <tr>\n",
       "      <th>0</th>\n",
       "      <td>3.62160</td>\n",
       "      <td>8.6661</td>\n",
       "      <td>-2.8073</td>\n",
       "      <td>-0.44699</td>\n",
       "      <td>0</td>\n",
       "    </tr>\n",
       "    <tr>\n",
       "      <th>1</th>\n",
       "      <td>4.54590</td>\n",
       "      <td>8.1674</td>\n",
       "      <td>-2.4586</td>\n",
       "      <td>-1.46210</td>\n",
       "      <td>0</td>\n",
       "    </tr>\n",
       "    <tr>\n",
       "      <th>2</th>\n",
       "      <td>3.86600</td>\n",
       "      <td>-2.6383</td>\n",
       "      <td>1.9242</td>\n",
       "      <td>0.10645</td>\n",
       "      <td>0</td>\n",
       "    </tr>\n",
       "    <tr>\n",
       "      <th>3</th>\n",
       "      <td>3.45660</td>\n",
       "      <td>9.5228</td>\n",
       "      <td>-4.0112</td>\n",
       "      <td>-3.59440</td>\n",
       "      <td>0</td>\n",
       "    </tr>\n",
       "    <tr>\n",
       "      <th>4</th>\n",
       "      <td>0.32924</td>\n",
       "      <td>-4.4552</td>\n",
       "      <td>4.5718</td>\n",
       "      <td>-0.98880</td>\n",
       "      <td>0</td>\n",
       "    </tr>\n",
       "  </tbody>\n",
       "</table>\n",
       "</div>"
      ],
      "text/plain": [
       "   Variance  Skewness  Curtosis  Entropy  Class\n",
       "0   3.62160    8.6661   -2.8073 -0.44699      0\n",
       "1   4.54590    8.1674   -2.4586 -1.46210      0\n",
       "2   3.86600   -2.6383    1.9242  0.10645      0\n",
       "3   3.45660    9.5228   -4.0112 -3.59440      0\n",
       "4   0.32924   -4.4552    4.5718 -0.98880      0"
      ]
     },
     "execution_count": 3,
     "metadata": {},
     "output_type": "execute_result"
    }
   ],
   "source": [
    "df.head()"
   ]
  },
  {
   "cell_type": "code",
   "execution_count": 4,
   "metadata": {
    "id": "GoRABxWewafl"
   },
   "outputs": [],
   "source": [
    "df=df.dropna()"
   ]
  },
  {
   "cell_type": "code",
   "execution_count": null,
   "metadata": {
    "colab": {
     "base_uri": "https://localhost:8080/",
     "height": 286
    },
    "id": "yNeTeYdmwbdj",
    "outputId": "c2c6d859-4acd-4d78-f84b-04fa95002b82"
   },
   "outputs": [],
   "source": []
  },
  {
   "cell_type": "code",
   "execution_count": 5,
   "metadata": {
    "id": "0O7kysZkMlmH"
   },
   "outputs": [],
   "source": [
    "list = df.values.tolist()"
   ]
  },
  {
   "cell_type": "code",
   "execution_count": 6,
   "metadata": {
    "id": "cPZarbENgwT5"
   },
   "outputs": [],
   "source": [
    "def shuffle(to_shuffle):\n",
    "  shuffled = []\n",
    "  while len(to_shuffle)>0: \n",
    "    randomIdx = random.randint(0, len(to_shuffle)-1)\n",
    "    shuffled.append(to_shuffle[randomIdx])\n",
    "    del to_shuffle [randomIdx] \n",
    "  return shuffled"
   ]
  },
  {
   "cell_type": "code",
   "execution_count": 7,
   "metadata": {
    "id": "Q4n9uMojgxjD"
   },
   "outputs": [],
   "source": [
    "list = shuffle(list)"
   ]
  },
  {
   "cell_type": "code",
   "execution_count": 8,
   "metadata": {
    "id": "GaEVbaOmMw30"
   },
   "outputs": [],
   "source": [
    "def split(list, ratio):\n",
    "  train = []\n",
    "  validation = []\n",
    "  test = []\n",
    "  for i in range(len(list)):\n",
    "    if(i/len(list) < ratio[0]):\n",
    "      train.append(list[:][i])\n",
    "    elif (i/len(list) > ratio[0] and i/len(list) < ratio[0] + ratio[1]):\n",
    "      validation.append(list[:][i])\n",
    "    else:\n",
    "      test.append(list[:][i])\n",
    "  return train, validation, test"
   ]
  },
  {
   "cell_type": "code",
   "execution_count": 9,
   "metadata": {
    "id": "DPuOQfuSRStP"
   },
   "outputs": [],
   "source": [
    "train, validation, test = split(list, [0.7,0.2])"
   ]
  },
  {
   "cell_type": "code",
   "execution_count": 10,
   "metadata": {
    "id": "oGK1TtB9Wf-Z"
   },
   "outputs": [],
   "source": [
    "train = np.array(train)\n",
    "validation = np.array(validation)\n",
    "test = np.array(test)"
   ]
  },
  {
   "cell_type": "code",
   "execution_count": 11,
   "metadata": {
    "id": "qRvWSSkhWq1R"
   },
   "outputs": [],
   "source": [
    "def splitXandY(list, labelIdx):\n",
    "  x = list[:,0:labelIdx]\n",
    "  y = list[:,labelIdx]\n",
    "  return x,y"
   ]
  },
  {
   "cell_type": "code",
   "execution_count": 12,
   "metadata": {
    "id": "H37Peae7XxvI"
   },
   "outputs": [],
   "source": [
    "X_train, y_train = splitXandY(train, 4)\n",
    "X_validation, y_validation = splitXandY(validation, 4)\n",
    "y_validation = y_validation.reshape((y_validation.shape[0],1))\n",
    "X_test, y_test = splitXandY(test, 4)\n",
    "y_test = y_test.reshape((y_test.shape[0],1))\n",
    "\n"
   ]
  },
  {
   "cell_type": "code",
   "execution_count": 13,
   "metadata": {
    "id": "S03QciJCY13l"
   },
   "outputs": [],
   "source": [
    "def getMinandMax(list):\n",
    "  minList = []\n",
    "  maxList = []\n",
    "  for i in range(len(list[0])):\n",
    "    col = list[:,i]\n",
    "    minList.append(min(col)) \n",
    "    maxList.append(max(col))   \n",
    "  return minList, maxList"
   ]
  },
  {
   "cell_type": "code",
   "execution_count": 14,
   "metadata": {
    "id": "3JpLBWZLcXEu"
   },
   "outputs": [],
   "source": [
    "def normalize(list, min_list, max_list):\n",
    "  newList = list.copy()\n",
    "  for i in range(len(list[0])):\n",
    "    col = list[:,i]\n",
    "    for j in range(len(col)):\n",
    "      newList[j][i] = (col[j] - min_list[i] ) / (max_list[i] - min_list[i])\n",
    "  return newList"
   ]
  },
  {
   "cell_type": "code",
   "execution_count": 15,
   "metadata": {
    "id": "FPbzbssobpiN"
   },
   "outputs": [],
   "source": [
    "min_list, max_list = getMinandMax(train)\n",
    "X_train_norm = normalize(X_train, min_list, max_list)\n",
    "X_validation_norm = normalize(X_validation, min_list, max_list)\n",
    "X_test_norm = normalize(X_test, min_list, max_list)"
   ]
  },
  {
   "cell_type": "code",
   "execution_count": 16,
   "metadata": {
    "colab": {
     "base_uri": "https://localhost:8080/"
    },
    "id": "jyUngw9kfhMN",
    "outputId": "20338eab-6fa5-4d2d-c5bc-351ac72df554"
   },
   "outputs": [
    {
     "data": {
      "text/plain": [
       "array([[0.68031067, 0.68586738, 0.0128072 , 0.51369832],\n",
       "       [0.69248354, 0.86217619, 0.07300924, 0.6539731 ],\n",
       "       [0.50437315, 0.45536152, 0.59283176, 0.84597507],\n",
       "       ...,\n",
       "       [0.15861512, 0.32853128, 0.6759558 , 0.72898515],\n",
       "       [0.38570264, 0.61958787, 0.13365499, 0.6019986 ],\n",
       "       [0.33076607, 0.17707963, 0.60947724, 0.69817962]])"
      ]
     },
     "execution_count": 16,
     "metadata": {},
     "output_type": "execute_result"
    }
   ],
   "source": [
    "X_train_norm"
   ]
  },
  {
   "cell_type": "code",
   "execution_count": 17,
   "metadata": {
    "colab": {
     "base_uri": "https://localhost:8080/",
     "height": 322
    },
    "id": "o3L2d6eLgXJM",
    "outputId": "de21a1f0-bbcd-4df3-d823-2e0c961eeddf"
   },
   "outputs": [
    {
     "data": {
      "text/plain": [
       "<AxesSubplot:>"
      ]
     },
     "execution_count": 17,
     "metadata": {},
     "output_type": "execute_result"
    },
    {
     "data": {
      "image/png": "[encoded data removed]",
      "text/plain": [
       "<Figure size 1440x360 with 1 Axes>"
      ]
     },
     "metadata": {
      "needs_background": "light"
     },
     "output_type": "display_data"
    }
   ],
   "source": [
    "pd.DataFrame(X_validation_norm).plot.box(figsize=(20,5), rot=90)"
   ]
  },
  {
   "cell_type": "code",
   "execution_count": 18,
   "metadata": {
    "colab": {
     "base_uri": "https://localhost:8080/"
    },
    "id": "aB4N0830VXjb",
    "outputId": "24d60c97-2e9c-49a9-c3ef-c73476a249de"
   },
   "outputs": [
    {
     "name": "stdout",
     "output_type": "stream",
     "text": [
      "961\n",
      "274\n",
      "137\n"
     ]
    }
   ],
   "source": [
    "print(len(train))\n",
    "print(len(validation))\n",
    "print(len(test))"
   ]
  },
  {
   "cell_type": "code",
   "execution_count": 19,
   "metadata": {
    "id": "dEWzpM0tg6dD"
   },
   "outputs": [],
   "source": [
    "def divideIntoBatches(x_list, y_list, batchLength):\n",
    "  iterationNo = math.ceil(len(x_list)/batchLength)\n",
    "  x_batches = []\n",
    "  y_batches = []\n",
    "  idx = 0\n",
    "  for i in range(iterationNo):\n",
    "    x_batch = []\n",
    "    y_batch = []\n",
    "    for j in range(batchLength):\n",
    "      if(idx == len(x_list)):\n",
    "        break;\n",
    "      x_batch.append(x_list[idx])\n",
    "      y_batch.append(y_list[idx])\n",
    "      idx+=1\n",
    "    # print(x_batch)\n",
    "    x_batches.append(x_batch)\n",
    "    y_batches.append(y_batch)\n",
    "  return x_batches, y_batches"
   ]
  },
  {
   "cell_type": "code",
   "execution_count": 20,
   "metadata": {
    "colab": {
     "base_uri": "https://localhost:8080/"
    },
    "id": "D6XPjxXYjl2O",
    "outputId": "88a779f6-d86e-442c-c100-05373dda3e8f"
   },
   "outputs": [
    {
     "data": {
      "text/plain": [
       "4"
      ]
     },
     "execution_count": 20,
     "metadata": {},
     "output_type": "execute_result"
    }
   ],
   "source": [
    "x_train_batches, y_train_batches = divideIntoBatches(X_train_norm, y_train, 100)\n",
    "len(x_train_batches[0][0])"
   ]
  },
  {
   "cell_type": "code",
   "execution_count": 21,
   "metadata": {
    "colab": {
     "base_uri": "https://localhost:8080/"
    },
    "id": "JqGHXhV0juxx",
    "outputId": "4c05d3ab-d39d-461a-8dba-f80029c1a8be"
   },
   "outputs": [
    {
     "data": {
      "text/plain": [
       "(61,)"
      ]
     },
     "execution_count": 21,
     "metadata": {},
     "output_type": "execute_result"
    }
   ],
   "source": [
    "np.array(y_train_batches[9]).shape"
   ]
  },
  {
   "cell_type": "code",
   "execution_count": 22,
   "metadata": {},
   "outputs": [],
   "source": [
    "# accuracy calculations \n",
    "def classification_report(confusion_matrix):\n",
    "    \n",
    "    TP = confusion_matrix[0][0]\n",
    "    TN =  confusion_matrix[1][1] \n",
    "    FN =  confusion_matrix[0][1]\n",
    "    FP =  confusion_matrix[1][0]\n",
    "    accuracy = (TP+TN) / (TP+FP+FN+TN)\n",
    "    percision = TP/(TP+FP)\n",
    "    recall = TP / (TP+FN)\n",
    "    F1 = 2*(percision*recall)/(percision+recall)\n",
    "    return accuracy, percision, recall, F1\n",
    "    "
   ]
  },
  {
   "cell_type": "code",
   "execution_count": 23,
   "metadata": {},
   "outputs": [],
   "source": [
    "def calculate_confusion_matrix (threshold, y_predicted, y_actual):\n",
    "    y_classification = [] \n",
    "\n",
    "    for y in y_predicted: \n",
    "        if(y<threshold):\n",
    "            y_classification.append(0)\n",
    "        else:\n",
    "            y_classification.append(1)\n",
    "\n",
    "    confusion_matrix = np.zeros((2, 2))\n",
    "\n",
    "    for i in range(len(y_classification)):\n",
    "        if y_classification[i] == y_actual[i] and y_actual[i]==1 :\n",
    "            confusion_matrix[0][0] +=1 \n",
    "        elif y_classification[i] == y_actual[i] and y_actual[i]==0 :\n",
    "            confusion_matrix[1][1] +=1 \n",
    "        elif y_classification[i] != y_actual[i] and y_actual[i]==1 :\n",
    "            confusion_matrix[0][1] +=1 \n",
    "        else:\n",
    "            confusion_matrix[1][0] +=1 \n",
    "    return confusion_matrix\n"
   ]
  },
  {
   "attachments": {},
   "cell_type": "markdown",
   "metadata": {},
   "source": [
    "### Do some helper functions that will help in the training loop"
   ]
  },
  {
   "cell_type": "code",
   "execution_count": 24,
   "metadata": {},
   "outputs": [],
   "source": [
    "\n",
    "\n",
    "#X is [100, 5]\n",
    "def forward_propagation(X, first_layer_Weights, first_layer_bias, second_layer_Weights, second_layer_bias):\n",
    "    hidden_z = np.dot(X , first_layer_Weights) + first_layer_bias #100x4  -- 4x10 = 100x10 \n",
    "    hidden_y = sigmoid(hidden_z)\n",
    "    output_z = np.dot(hidden_y, second_layer_Weights ) + second_layer_bias #100x10 -- 10x1 = 100x1\n",
    "    output_y = sigmoid(output_z)\n",
    "    return hidden_z, hidden_y, output_z, output_y\n",
    "\n",
    "def sigmoid(x):\n",
    "    return 1.0/(1.0+np.exp(-x))\n",
    "\n",
    "def compute_dE_dy(Y, Y_hat): #100x1\n",
    "    return -(Y-Y_hat)\n",
    "\n",
    "def compute_loss(Y, Y_hat):\n",
    "    return (0.5) *(Y-Y_hat)**2 \n",
    "  \n",
    "\n",
    "\n"
   ]
  },
  {
   "cell_type": "code",
   "execution_count": 25,
   "metadata": {},
   "outputs": [],
   "source": [
    "def calculate_predicted_y(X, y,first_layer_W, first_layer_b, second_layer_W, second_layer_b):\n",
    "    hidden_z, hidden_y, output_z, output_y = forward_propagation(X,first_layer_W, first_layer_b, second_layer_W, second_layer_b)\n",
    "    return output_y"
   ]
  },
  {
   "cell_type": "code",
   "execution_count": 26,
   "metadata": {},
   "outputs": [],
   "source": [
    "def calculateValidationError(X, y,first_layer_W, first_layer_b, second_layer_W, second_layer_b):\n",
    "    hidden_z, hidden_y, output_z, output_y = forward_propagation(X,first_layer_W, first_layer_b, second_layer_W, second_layer_b)\n",
    "    return compute_loss(y, output_y)"
   ]
  },
  {
   "attachments": {},
   "cell_type": "markdown",
   "metadata": {},
   "source": [
    "#### Tasks Number: 5, 6, 7, 8\n",
    "\n",
    "#### Task Requirement: Train the network at least 10 epochs. The backpropagation pass should be executed after each iteration (one batch). The validation is performed after each epoch. The testing is performed only once after the completion of the training.\n",
    "\n",
    "#### Task Overview: \n",
    "#### Two for loops are done. Outer loop is to loop over the epochs, inner loop is to loop over the batches.\n",
    "#### weights are randomly initilaized with the specified wights\n",
    "#### Everey batch we do forward propagation and backpropagation as specified in the project report\n"
   ]
  },
  {
   "cell_type": "code",
   "execution_count": 38,
   "metadata": {},
   "outputs": [
    {
     "name": "stderr",
     "output_type": "stream",
     "text": [
      "C:\\Users\\DELL\\AppData\\Local\\Temp\\ipykernel_1380\\2529145335.py:1: VisibleDeprecationWarning: Creating an ndarray from ragged nested sequences (which is a list-or-tuple of lists-or-tuples-or ndarrays with different lengths or shapes) is deprecated. If you meant to do this, you must specify 'dtype=object' when creating the ndarray.\n",
      "  y_train_batches2 = np.array(y_train_batches)\n",
      "C:\\Users\\DELL\\AppData\\Local\\Temp\\ipykernel_1380\\2529145335.py:4: VisibleDeprecationWarning: Creating an ndarray from ragged nested sequences (which is a list-or-tuple of lists-or-tuples-or ndarrays with different lengths or shapes) is deprecated. If you meant to do this, you must specify 'dtype=object' when creating the ndarray.\n",
      "  batches = np.array(x_train_batches).shape[0]\n"
     ]
    }
   ],
   "source": [
    "y_train_batches2 = np.array(y_train_batches)\n",
    "eta = 0.1\n",
    "epochs=20\n",
    "batches = np.array(x_train_batches).shape[0]\n",
    "random_state=1\n",
    "random = np.random.RandomState(random_state)\n",
    "first_layer_W = random.normal(loc=0.0, scale=0.1, size=(4, 10))\n",
    "first_layer_b = random.normal(loc=0.0, scale=0.1, size=(1, 10))\n",
    "second_layer_W =random.normal(loc=0.0, scale=0.1, size=(10, 1))\n",
    "second_layer_b = random.normal(loc=0.0, scale=0.1, size=(1, 1))\n",
    "training_errors = []\n",
    "validation_errors = []\n",
    "training_confusion_matrices = []\n",
    "validation_confusion_matrices = []\n",
    "for epoch in range(epochs):\n",
    "    batch_errors = []\n",
    "    for batch in range (batches):\n",
    "        y = np.array(y_train_batches2[batch])\n",
    "        y = y.reshape((y.shape[0],1)) #convert y from vector to matrix (from (100,) to (100,1))\n",
    "        X = np.array(x_train_batches[batch])\n",
    "        batch_size = X.shape[0] #necessary because last batch is 61 samples not 100\n",
    "        hidden_z, hidden_y, output_z, output_y = forward_propagation(X,first_layer_W, first_layer_b, second_layer_W, second_layer_b)\n",
    "\n",
    "        error = compute_loss(y, output_y)\n",
    "        batch_errors.append(np.mean(error))\n",
    "\n",
    "        dE_dy = compute_dE_dy(y, output_y) #100x1\n",
    "        # errors.append(np.mean(error))\n",
    "        #dE/dy = -(y-y_hat)                reshape to be 10x100 (or(10,61)for last batch) for matmul    100x1\n",
    "        second_layer_W_gradient = np.matmul(np.transpose(hidden_y), (dE_dy * output_y*(1-output_y))) #10,1\n",
    "        #dE/dWi second layer =                  dz_out/dWi                          *  dE/dy_out *        dy_out/dz_out\n",
    "\n",
    "        second_layer_b_gradient = np.sum(dE_dy * output_y*(1-output_y)) #1x1\n",
    "        #dE/db second layer =          dE/dy_out *   dy_out/dz_out (sum over all training examples)\n",
    "                                 #dE/dy *      dy_out/dz_out          reshaping from (100,1) to (1,100) to ease matmul                                 \n",
    "        first_layer_W_gradient = np.transpose(dE_dy * output_y*(1-output_y))#.reshape((1,batch_size)) #1x100\n",
    "        #                            * dz/dy_hidden (that is, the second_layer weights)\n",
    "        \n",
    "        first_layer_W_gradient = (np.matmul(second_layer_W, first_layer_W_gradient))#.reshape((batch_size,10)) #10x1 * 1x100 = 10x100 reshape to 100x10\n",
    "        #                                               * dy_hidden/dz_hidden\n",
    "\n",
    "        first_layer_W_gradient = (np.transpose(first_layer_W_gradient) *  (hidden_y*(1-hidden_y)))#.reshape((batch_size,10)) #100x10\n",
    "        #                                  *dz_hidden/dW of first layer (that is, X)\n",
    "        first_layer_W_gradient = np.matmul(np.transpose(X), first_layer_W_gradient)#4x100 * 100x10 = 4x10\n",
    "        \n",
    "        #same as w gradient but without last step dz_hidden/dw\n",
    "        first_layer_b_gradient = np.sum(np.transpose(np.matmul(second_layer_W, (np.transpose(dE_dy * output_y*(1-output_y))))) * (hidden_y*(1-hidden_y)))\n",
    "\n",
    "        second_layer_W -=  eta * second_layer_W_gradient\n",
    "        second_layer_b -= eta * second_layer_b_gradient\n",
    "        first_layer_W -= eta * first_layer_W_gradient\n",
    "        first_layer_b -= eta * first_layer_b_gradient\n",
    "\n",
    "        if(batch % 11 == 0):\n",
    "            training_confusion_matrix = calculate_confusion_matrix(0.5, output_y, y)\n",
    "            training_confusion_matrices.append(training_confusion_matrix)\n",
    "\n",
    "\n",
    "    training_errors.append(sum(batch_errors)/len(batch_errors))\n",
    "    validation_error = calculateValidationError(X_validation_norm, y_validation,first_layer_W, first_layer_b, second_layer_W, second_layer_b)\n",
    "    \n",
    "    y_predicted = calculate_predicted_y(X_validation_norm, y_validation,first_layer_W, first_layer_b, second_layer_W, second_layer_b)\n",
    "    validation_confusion_matrix = calculate_confusion_matrix(0.5, y_predicted, y_validation)\n",
    "    validation_confusion_matrices.append(validation_confusion_matrix)\n",
    "        \n",
    "    validation_errors.append(np.mean(validation_error))\n",
    "    ##predict on validation data, calculate metrics \n",
    "\n",
    "\n"
   ]
  },
  {
   "cell_type": "code",
   "execution_count": 39,
   "metadata": {},
   "outputs": [
    {
     "data": {
      "image/png": "[encoded data removed]",
      "text/plain": [
       "<Figure size 432x288 with 1 Axes>"
      ]
     },
     "metadata": {
      "needs_background": "light"
     },
     "output_type": "display_data"
    }
   ],
   "source": [
    "#PLOTTING TRAINING ERROR\n",
    "x1=range(0, epochs)\n",
    "y1=training_errors\n",
    "y2=validation_errors\n",
    "plt.plot(x1, y1, label = \"training errors\")\n",
    "plt.plot(x1, y2, label = \"validation errors\")\n",
    "  \n",
    "# naming the x axis\n",
    "plt.xlabel('epochs')\n",
    "# naming the y axis\n",
    "plt.ylabel('errors')\n",
    "# giving a title to my graph\n",
    "plt.title('')\n",
    "  \n",
    "# show a legend on the plot\n",
    "plt.legend()\n",
    "  \n",
    "# function to show the plot\n",
    "plt.show()"
   ]
  },
  {
   "cell_type": "code",
   "execution_count": 48,
   "metadata": {},
   "outputs": [
    {
     "data": {
      "image/png": "[encoded data removed]",
      "text/plain": [
       "<Figure size 2520x2520 with 20 Axes>"
      ]
     },
     "metadata": {
      "needs_background": "light"
     },
     "output_type": "display_data"
    }
   ],
   "source": [
    "#plot training confusion matrices\n",
    "fig, axs = plt.subplots(1, len(training_confusion_matrices), figsize=(35, 35))\n",
    "\n",
    "# Plot each matrix in a separate subplot\n",
    "for i, ax in enumerate(axs):\n",
    "    im = ax.imshow(training_confusion_matrices[i], cmap=plt.cm.Blues, alpha=0.3)\n",
    "    ax.set_title(f'Training confusion Matrix on epoch {50*i + 50}, batch 0',  color=\"w\")\n",
    "    plt.xlabel('Predictions', fontsize=18, color = \"w\")\n",
    "    plt.ylabel('Actuals', fontsize=18, color = \"w\")\n",
    "    ax.set_xticks(np.arange(training_confusion_matrices[i].shape[1]))\n",
    "    ax.set_yticks(np.arange(training_confusion_matrices[i].shape[0]))\n",
    "    for j in range(training_confusion_matrices[i].shape[0]):\n",
    "        for k in range(training_confusion_matrices[i].shape[1]):\n",
    "            text = ax.text(k, j, training_confusion_matrices[i][j, k], ha=\"center\", va=\"center\", color=\"black\")\n",
    "\n",
    "# Show the figure\n",
    "plt.show()"
   ]
  },
  {
   "cell_type": "code",
   "execution_count": 49,
   "metadata": {},
   "outputs": [
    {
     "data": {
      "image/png": "[encoded data removed]",
      "text/plain": [
       "<Figure size 2160x2160 with 20 Axes>"
      ]
     },
     "metadata": {
      "needs_background": "light"
     },
     "output_type": "display_data"
    }
   ],
   "source": [
    "#plot validation confusion matrices\n",
    "fig, axs = plt.subplots(1, len(validation_confusion_matrices), figsize=(30, 30))\n",
    "\n",
    "# Plot each matrix in a separate subplot\n",
    "for i, ax in enumerate(axs):\n",
    "    im = ax.imshow(validation_confusion_matrices[i], cmap=plt.cm.Blues, alpha=0.3)\n",
    "    ax.set_title(f'Validation confusion Matrix on epoch {50*i + 50}',  color=\"w\")\n",
    "    plt.xlabel('Predictions', fontsize=18, color = \"w\")\n",
    "    plt.ylabel('Actuals', fontsize=18, color = \"w\")\n",
    "    ax.set_xticks(np.arange(validation_confusion_matrices[i].shape[1]))\n",
    "    ax.set_yticks(np.arange(validation_confusion_matrices[i].shape[0]))\n",
    "    for j in range(validation_confusion_matrices[i].shape[0]):\n",
    "        for k in range(validation_confusion_matrices[i].shape[1]):\n",
    "            text = ax.text(k, j, validation_confusion_matrices[i][j, k], ha=\"center\", va=\"center\", color=\"black\")\n",
    "            \n",
    "\n",
    "\n",
    "\n",
    "# Show the figure\n",
    "plt.show()"
   ]
  },
  {
   "cell_type": "code",
   "execution_count": 50,
   "metadata": {},
   "outputs": [
    {
     "data": {
      "image/png": "[encoded data removed]",
      "text/plain": [
       "<Figure size 432x288 with 1 Axes>"
      ]
     },
     "metadata": {
      "needs_background": "light"
     },
     "output_type": "display_data"
    },
    {
     "data": {
      "image/png": "[encoded data removed]",
      "text/plain": [
       "<Figure size 432x288 with 1 Axes>"
      ]
     },
     "metadata": {
      "needs_background": "light"
     },
     "output_type": "display_data"
    },
    {
     "data": {
      "image/png": "[encoded data removed]",
      "text/plain": [
       "<Figure size 540x540 with 1 Axes>"
      ]
     },
     "metadata": {
      "needs_background": "light"
     },
     "output_type": "display_data"
    },
    {
     "name": "stdout",
     "output_type": "stream",
     "text": [
      "Accuracy\n",
      "0.9197080291970803\n",
      "Percision\n",
      "0.8805970149253731\n",
      "Recall\n",
      "0.9516129032258065\n",
      "F1 Score\n",
      "0.9147286821705426\n"
     ]
    }
   ],
   "source": [
    "# draw ROC curve \n",
    "min_threshold = 0.1\n",
    "threshold_step = 0.01\n",
    "max_threshold = 0.9\n",
    "percisions = []\n",
    "recalls = []\n",
    "true_positives = []\n",
    "false_negatives = []\n",
    "\n",
    "while (min_threshold<max_threshold):\n",
    "    z_hidden, y_hidden, z_output, y_predicted = forward_propagation(X_test_norm,first_layer_W, first_layer_b, second_layer_W, second_layer_b)\n",
    "    confusion_matrix = calculate_confusion_matrix(min_threshold, y_predicted, y_test)\n",
    "    true_positives.append(confusion_matrix[0][0])\n",
    "    false_negatives.append(confusion_matrix[1][0])\n",
    "    accuracy, percision, recall, F1 = classification_report(confusion_matrix)\n",
    "    percisions.append(percision)\n",
    "    recalls.append(recall) \n",
    "    min_threshold+=threshold_step  \n",
    "    \n",
    "\n",
    "# plotting the ROC curve\n",
    "plt.plot(false_negatives, true_positives)\n",
    "\n",
    "# naming the x axis\n",
    "plt.xlabel('False Positive', color = \"w\")\n",
    "# naming the y axis\n",
    "plt.ylabel('True Positive', color = \"w\")\n",
    "plt.title('ROC')\n",
    "\n",
    "# function to show the plot\n",
    "plt.show()\n",
    "\n",
    "# plotting the Percision Recall curve \n",
    "plt.plot(recalls, percisions)\n",
    "\n",
    "# naming the x axis\n",
    "plt.xlabel('Recall', color = \"w\")\n",
    "# naming the y axis\n",
    "plt.ylabel('Percision', color = \"w\")\n",
    "\n",
    "# function to show the plot\n",
    "plt.show()\n",
    "\n",
    "\n",
    "z_hidden, y_hidden, z_output, y_predicted = forward_propagation(X_test_norm,first_layer_W, first_layer_b, second_layer_W, second_layer_b)\n",
    "confusion_matrix = calculate_confusion_matrix(0.5, y_predicted, y_test)\n",
    "\n",
    "# resuts of confusion matrix with threshold = 0.5\n",
    "fig, ax = plt.subplots(figsize=(7.5, 7.5))\n",
    "ax.matshow(confusion_matrix, cmap=plt.cm.Blues, alpha=0.3)\n",
    "for i in range(confusion_matrix.shape[0]):\n",
    "    for j in range(confusion_matrix.shape[1]):\n",
    "        ax.text(x=j, y=i,s=confusion_matrix[i, j], va='center', ha='center', size='xx-large')\n",
    " \n",
    "plt.xlabel('Predictions', fontsize=18, color = \"w\")\n",
    "plt.ylabel('Actuals', fontsize=18, color = \"w\")\n",
    "plt.title('Confusion Matrix', fontsize=18, color = \"w\")\n",
    "plt.show()\n",
    "\n",
    "# confusion matrix with threshold = 0.5\n",
    "accuracy, percision, recall, F1 = classification_report(confusion_matrix)\n",
    "print('Accuracy')\n",
    "print(accuracy)\n",
    "print('Percision')\n",
    "print(percision)\n",
    "print('Recall')\n",
    "print(recall)\n",
    "print('F1 Score')\n",
    "print(F1)"
   ]
  }
 ],
 "metadata": {
  "colab": {
   "provenance": []
  },
  "kernelspec": {
   "display_name": "Python 3",
   "language": "python",
   "name": "python3"
  },
  "language_info": {
   "codemirror_mode": {
    "name": "ipython",
    "version": 3
   },
   "file_extension": ".py",
   "mimetype": "text/x-python",
   "name": "python",
   "nbconvert_exporter": "python",
   "pygments_lexer": "ipython3",
   "version": "3.10.9"
  },
  "vscode": {
   "interpreter": {
    "hash": "5c1f741a4f83aa020b4b2a4d7353a073a4e5e4a855a3258a20da40294ddbf005"
   }
  }
 },
 "nbformat": 4,
 "nbformat_minor": 1
}
