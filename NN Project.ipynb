{
  "cells": [
    {
      "cell_type": "code",
      "execution_count": 1,
      "metadata": {
        "id": "gyj5Jf-jv1HG"
      },
      "outputs": [],
      "source": [
        "import numpy as np\n",
        "import pandas as pd\n",
        "import random\n",
        "import matplotlib.pyplot as plt\n",
        "import seaborn as sns\n",
        "import math"
      ]
    },
    {
      "cell_type": "code",
      "execution_count": 2,
      "metadata": {
        "id": "sA-O18hKwADt"
      },
      "outputs": [],
      "source": [
        "df = pd.read_csv(\"data_banknote_authentication.txt\", \n",
        "                  sep=',', \n",
        "                  names=[\"Variance\", \"Skewness\", \"Curtosis\", \"Entropy\", \"Class\"])"
      ]
    },
    {
      "cell_type": "code",
      "execution_count": 3,
      "metadata": {
        "colab": {
          "base_uri": "https://localhost:8080/",
          "height": 206
        },
        "id": "-PnBM79CwL37",
        "outputId": "d9f38521-e38e-413b-ed89-1b0af71d4cfd"
      },
      "outputs": [
        {
          "data": {
            "text/html": [
              "<div>\n",
              "<style scoped>\n",
              "    .dataframe tbody tr th:only-of-type {\n",
              "        vertical-align: middle;\n",
              "    }\n",
              "\n",
              "    .dataframe tbody tr th {\n",
              "        vertical-align: top;\n",
              "    }\n",
              "\n",
              "    .dataframe thead th {\n",
              "        text-align: right;\n",
              "    }\n",
              "</style>\n",
              "<table border=\"1\" class=\"dataframe\">\n",
              "  <thead>\n",
              "    <tr style=\"text-align: right;\">\n",
              "      <th></th>\n",
              "      <th>Variance</th>\n",
              "      <th>Skewness</th>\n",
              "      <th>Curtosis</th>\n",
              "      <th>Entropy</th>\n",
              "      <th>Class</th>\n",
              "    </tr>\n",
              "  </thead>\n",
              "  <tbody>\n",
              "    <tr>\n",
              "      <th>0</th>\n",
              "      <td>3.62160</td>\n",
              "      <td>8.6661</td>\n",
              "      <td>-2.8073</td>\n",
              "      <td>-0.44699</td>\n",
              "      <td>0</td>\n",
              "    </tr>\n",
              "    <tr>\n",
              "      <th>1</th>\n",
              "      <td>4.54590</td>\n",
              "      <td>8.1674</td>\n",
              "      <td>-2.4586</td>\n",
              "      <td>-1.46210</td>\n",
              "      <td>0</td>\n",
              "    </tr>\n",
              "    <tr>\n",
              "      <th>2</th>\n",
              "      <td>3.86600</td>\n",
              "      <td>-2.6383</td>\n",
              "      <td>1.9242</td>\n",
              "      <td>0.10645</td>\n",
              "      <td>0</td>\n",
              "    </tr>\n",
              "    <tr>\n",
              "      <th>3</th>\n",
              "      <td>3.45660</td>\n",
              "      <td>9.5228</td>\n",
              "      <td>-4.0112</td>\n",
              "      <td>-3.59440</td>\n",
              "      <td>0</td>\n",
              "    </tr>\n",
              "    <tr>\n",
              "      <th>4</th>\n",
              "      <td>0.32924</td>\n",
              "      <td>-4.4552</td>\n",
              "      <td>4.5718</td>\n",
              "      <td>-0.98880</td>\n",
              "      <td>0</td>\n",
              "    </tr>\n",
              "  </tbody>\n",
              "</table>\n",
              "</div>"
            ],
            "text/plain": [
              "   Variance  Skewness  Curtosis  Entropy  Class\n",
              "0   3.62160    8.6661   -2.8073 -0.44699      0\n",
              "1   4.54590    8.1674   -2.4586 -1.46210      0\n",
              "2   3.86600   -2.6383    1.9242  0.10645      0\n",
              "3   3.45660    9.5228   -4.0112 -3.59440      0\n",
              "4   0.32924   -4.4552    4.5718 -0.98880      0"
            ]
          },
          "execution_count": 3,
          "metadata": {},
          "output_type": "execute_result"
        }
      ],
      "source": [
        "df.head()"
      ]
    },
    {
      "cell_type": "code",
      "execution_count": 4,
      "metadata": {
        "id": "GoRABxWewafl"
      },
      "outputs": [],
      "source": [
        "df=df.dropna()"
      ]
    },
    {
      "cell_type": "code",
      "execution_count": 5,
      "metadata": {
        "colab": {
          "base_uri": "https://localhost:8080/",
          "height": 286
        },
        "id": "yNeTeYdmwbdj",
        "outputId": "c2c6d859-4acd-4d78-f84b-04fa95002b82"
      },
      "outputs": [
        {
          "data": {
            "text/plain": [
              "<AxesSubplot:>"
            ]
          },
          "execution_count": 5,
          "metadata": {},
          "output_type": "execute_result"
        },
        {
          "data": {
            "image/png": "[encoded data removed]",
            "text/plain": [
              "<Figure size 432x288 with 2 Axes>"
            ]
          },
          "metadata": {
            "needs_background": "light"
          },
          "output_type": "display_data"
        }
      ],
      "source": [
        "sns.heatmap(df.corr())"
      ]
    },
    {
      "cell_type": "code",
      "execution_count": 6,
      "metadata": {
        "id": "0O7kysZkMlmH"
      },
      "outputs": [],
      "source": [
        "list = df.values.tolist()"
      ]
    },
    {
      "cell_type": "code",
      "execution_count": 7,
      "metadata": {
        "id": "cPZarbENgwT5"
      },
      "outputs": [],
      "source": [
        "def shuffle(to_shuffle):\n",
        "  shuffled = []\n",
        "  while len(to_shuffle)>0: \n",
        "    randomIdx = random.randint(0, len(to_shuffle)-1)\n",
        "    shuffled.append(to_shuffle[randomIdx])\n",
        "    del to_shuffle [randomIdx] \n",
        "  return shuffled"
      ]
    },
    {
      "cell_type": "code",
      "execution_count": 8,
      "metadata": {
        "id": "Q4n9uMojgxjD"
      },
      "outputs": [],
      "source": [
        "list = shuffle(list)"
      ]
    },
    {
      "cell_type": "code",
      "execution_count": 9,
      "metadata": {
        "id": "GaEVbaOmMw30"
      },
      "outputs": [],
      "source": [
        "def split(list, ratio):\n",
        "  train = []\n",
        "  validation = []\n",
        "  test = []\n",
        "  for i in range(len(list)):\n",
        "    if(i/len(list) < ratio[0]):\n",
        "      train.append(list[:][i])\n",
        "    elif (i/len(list) > ratio[0] and i/len(list) < ratio[0] + ratio[1]):\n",
        "      validation.append(list[:][i])\n",
        "    else:\n",
        "      test.append(list[:][i])\n",
        "  return train, validation, test"
      ]
    },
    {
      "cell_type": "code",
      "execution_count": 10,
      "metadata": {
        "id": "DPuOQfuSRStP"
      },
      "outputs": [],
      "source": [
        "train, validation, test = split(list, [0.7,0.2])"
      ]
    },
    {
      "cell_type": "code",
      "execution_count": 11,
      "metadata": {
        "id": "oGK1TtB9Wf-Z"
      },
      "outputs": [],
      "source": [
        "train = np.array(train)\n",
        "validation = np.array(validation)\n",
        "test = np.array(test)"
      ]
    },
    {
      "cell_type": "code",
      "execution_count": 12,
      "metadata": {
        "id": "qRvWSSkhWq1R"
      },
      "outputs": [],
      "source": [
        "def splitXandY(list, labelIdx):\n",
        "  x = list[:,0:labelIdx]\n",
        "  y = list[:,labelIdx]\n",
        "  return x,y"
      ]
    },
    {
      "cell_type": "code",
      "execution_count": 13,
      "metadata": {
        "id": "H37Peae7XxvI"
      },
      "outputs": [],
      "source": [
        "X_train, y_train = splitXandY(train, 4)\n",
        "X_validation, y_validation = splitXandY(validation, 4)\n",
        "X_test, y_test = splitXandY(test, 4)"
      ]
    },
    {
      "cell_type": "code",
      "execution_count": 14,
      "metadata": {
        "id": "S03QciJCY13l"
      },
      "outputs": [],
      "source": [
        "def getMinandMax(list):\n",
        "  minList = []\n",
        "  maxList = []\n",
        "  for i in range(len(list[0])):\n",
        "    col = list[:,i]\n",
        "    minList.append(min(col)) \n",
        "    maxList.append(max(col))   \n",
        "  return minList, maxList"
      ]
    },
    {
      "cell_type": "code",
      "execution_count": 15,
      "metadata": {
        "id": "3JpLBWZLcXEu"
      },
      "outputs": [],
      "source": [
        "def normalize(list, min, max):\n",
        "  newList = list.copy()\n",
        "  for i in range(len(list[0])):\n",
        "    col = list[:,i]\n",
        "    for j in range(len(col)):\n",
        "      newList[j][i] = (col[j] - min[i] ) / (max[i] - min[i])\n",
        "  return newList"
      ]
    },
    {
      "cell_type": "code",
      "execution_count": 16,
      "metadata": {
        "id": "FPbzbssobpiN"
      },
      "outputs": [],
      "source": [
        "min, max = getMinandMax(train)\n",
        "X_train_norm = normalize(X_train, min, max)\n",
        "X_validation_norm = normalize(X_validation, min, max)\n",
        "X_test_norm = normalize(X_test, min, max)"
      ]
    },
    {
      "cell_type": "code",
      "execution_count": 17,
      "metadata": {
        "colab": {
          "base_uri": "https://localhost:8080/"
        },
        "id": "jyUngw9kfhMN",
        "outputId": "20338eab-6fa5-4d2d-c5bc-351ac72df554"
      },
      "outputs": [
        {
          "data": {
            "text/plain": [
              "array([[0.49296526, 0.86758253, 0.06714046, 0.10285426],\n",
              "       [0.54529635, 0.39654685, 0.36012368, 0.6672525 ],\n",
              "       [0.44866336, 0.54426845, 0.20581619, 0.71160308],\n",
              "       ...,\n",
              "       [0.70790876, 0.77842005, 0.18087258, 0.7699843 ],\n",
              "       [0.40769026, 0.33564877, 0.50622501, 0.79579224],\n",
              "       [0.74072071, 0.81168005, 0.21058274, 0.51653845]])"
            ]
          },
          "execution_count": 17,
          "metadata": {},
          "output_type": "execute_result"
        }
      ],
      "source": [
        "X_train_norm"
      ]
    },
    {
      "cell_type": "code",
      "execution_count": 18,
      "metadata": {
        "colab": {
          "base_uri": "https://localhost:8080/",
          "height": 322
        },
        "id": "o3L2d6eLgXJM",
        "outputId": "de21a1f0-bbcd-4df3-d823-2e0c961eeddf"
      },
      "outputs": [
        {
          "data": {
            "text/plain": [
              "<AxesSubplot:>"
            ]
          },
          "execution_count": 18,
          "metadata": {},
          "output_type": "execute_result"
        },
        {
          "data": {
            "image/png": "[encoded data removed]",
            "text/plain": [
              "<Figure size 1440x360 with 1 Axes>"
            ]
          },
          "metadata": {
            "needs_background": "light"
          },
          "output_type": "display_data"
        }
      ],
      "source": [
        "pd.DataFrame(X_validation_norm).plot.box(figsize=(20,5), rot=90)"
      ]
    },
    {
      "cell_type": "code",
      "execution_count": 19,
      "metadata": {
        "colab": {
          "base_uri": "https://localhost:8080/"
        },
        "id": "aB4N0830VXjb",
        "outputId": "24d60c97-2e9c-49a9-c3ef-c73476a249de"
      },
      "outputs": [
        {
          "name": "stdout",
          "output_type": "stream",
          "text": [
            "961\n",
            "274\n",
            "137\n"
          ]
        }
      ],
      "source": [
        "print(len(train))\n",
        "print(len(validation))\n",
        "print(len(test))"
      ]
    },
    {
      "cell_type": "code",
      "execution_count": 20,
      "metadata": {
        "id": "dEWzpM0tg6dD"
      },
      "outputs": [],
      "source": [
        "def divideIntoBatches(x_list, y_list, batchLength):\n",
        "  iterationNo = math.ceil(len(x_list)/batchLength)\n",
        "  x_batches = []\n",
        "  y_batches = []\n",
        "  idx = 0\n",
        "  for i in range(iterationNo):\n",
        "    x_batch = []\n",
        "    y_batch = []\n",
        "    for j in range(batchLength):\n",
        "      if(idx == len(x_list)):\n",
        "        break;\n",
        "      x_batch.append(x_list[idx])\n",
        "      y_batch.append(y_list[idx])\n",
        "      idx+=1\n",
        "    # print(x_batch)\n",
        "    x_batches.append(x_batch)\n",
        "    y_batches.append(y_batch)\n",
        "  return x_batches, y_batches"
      ]
    },
    {
      "cell_type": "code",
      "execution_count": 21,
      "metadata": {
        "colab": {
          "base_uri": "https://localhost:8080/"
        },
        "id": "D6XPjxXYjl2O",
        "outputId": "88a779f6-d86e-442c-c100-05373dda3e8f"
      },
      "outputs": [
        {
          "data": {
            "text/plain": [
              "4"
            ]
          },
          "execution_count": 21,
          "metadata": {},
          "output_type": "execute_result"
        }
      ],
      "source": [
        "x_train_batches, y_train_batches = divideIntoBatches(X_train_norm, y_train, 100)\n",
        "len(x_train_batches[0][0])"
      ]
    },
    {
      "cell_type": "code",
      "execution_count": 22,
      "metadata": {
        "colab": {
          "base_uri": "https://localhost:8080/"
        },
        "id": "JqGHXhV0juxx",
        "outputId": "4c05d3ab-d39d-461a-8dba-f80029c1a8be"
      },
      "outputs": [
        {
          "data": {
            "text/plain": [
              "(61,)"
            ]
          },
          "execution_count": 22,
          "metadata": {},
          "output_type": "execute_result"
        }
      ],
      "source": [
        "np.array(y_train_batches[9]).shape"
      ]
    },
    {
      "cell_type": "code",
      "execution_count": 148,
      "metadata": {},
      "outputs": [],
      "source": [
        "\n",
        "\n",
        "#X is [100, 5]\n",
        "def forward_propagation(X, first_layer_Weights, first_layer_bias, second_layer_Weights, second_layer_bias):\n",
        "    hidden_z = np.dot(X , first_layer_Weights) + first_layer_bias #100x4  -- 4x10 = 100x10 \n",
        "    hidden_y = sigmoid(hidden_z)\n",
        "    output_z = np.dot(hidden_y, second_layer_Weights ) + second_layer_bias #100x10 -- 10x1 = 100x1\n",
        "    output_y = sigmoid(output_z)\n",
        "    return hidden_z, hidden_y, output_z, output_y\n",
        "\n",
        "def sigmoid(x):\n",
        "    return 1.0/(1.0+np.exp(-x))\n",
        "\n",
        "def compute_dE_dy(Y, Y_hat): #100x1\n",
        "    return -(Y-Y_hat)\n",
        "\n",
        "def compute_loss(Y, Y_hat):\n",
        "    return (0.5) *(Y-Y_hat)**2 \n",
        "  \n",
        "\n",
        "\n"
      ]
    },
    {
      "cell_type": "code",
      "execution_count": 149,
      "metadata": {},
      "outputs": [],
      "source": [
        "def calculateValidationError(X, y,first_layer_W, first_layer_b, second_layer_W, second_layer_b):\n",
        "    hidden_z, hidden_y, output_z, output_y = forward_propagation(X,first_layer_W, first_layer_b, second_layer_W, second_layer_b)\n",
        "    return compute_loss(y, output_y)"
      ]
    },
    {
      "cell_type": "code",
      "execution_count": 150,
      "metadata": {},
      "outputs": [],
      "source": [
        "# hidden_z, hidden_y, output_z, output_y = forward_propagation(x_train_batches[0],first_layer_W, first_layer_b, second_layer_W, second_layer_b)"
      ]
    },
    {
      "cell_type": "code",
      "execution_count": 151,
      "metadata": {},
      "outputs": [],
      "source": [
        "# y = np.array(y_train_batches[0]).reshape((100,1))\n",
        "# X = np.array(x_train_batches[0])\n",
        "# dE_dy = compute_dE_dy(y, output_y)\n",
        "# second_layer_W_gradient = np.matmul(hidden_y.reshape((10,100)), (dE_dy * output_y*(1-output_y))) #10,1\n",
        "# second_layer_b_gradient = np.sum(dE_dy * output_y*(1-output_y))\n",
        "\n",
        "# first_layer_W_gradient = np.matmul(X.reshape((4,100)),(np.matmul(second_layer_W, (dE_dy * output_y*(1-output_y)).reshape((1,100))).reshape((100,10)) * (hidden_y*(1-hidden_y))).reshape((100,10)))\n",
        "# first_layer_b_gradient = np.sum(np.matmul(second_layer_W, ( dE_dy* output_y*(1-output_y)).reshape((1,100))).reshape((100,10)) * (hidden_y*(1-hidden_y)))\n"
      ]
    },
    {
      "cell_type": "code",
      "execution_count": 194,
      "metadata": {},
      "outputs": [
        {
          "name": "stderr",
          "output_type": "stream",
          "text": [
            "C:\\Users\\DELL\\AppData\\Local\\Temp\\ipykernel_29964\\1678914770.py:1: VisibleDeprecationWarning: Creating an ndarray from ragged nested sequences (which is a list-or-tuple of lists-or-tuples-or ndarrays with different lengths or shapes) is deprecated. If you meant to do this, you must specify 'dtype=object' when creating the ndarray.\n",
            "  y_train_batches2 = np.array(y_train_batches)\n",
            "C:\\Users\\DELL\\AppData\\Local\\Temp\\ipykernel_29964\\1678914770.py:4: VisibleDeprecationWarning: Creating an ndarray from ragged nested sequences (which is a list-or-tuple of lists-or-tuples-or ndarrays with different lengths or shapes) is deprecated. If you meant to do this, you must specify 'dtype=object' when creating the ndarray.\n",
            "  batches = np.array(x_train_batches).shape[0]\n"
          ]
        },
        {
          "data": {
            "image/png": "[encoded data removed]",
            "text/plain": [
              "<Figure size 432x288 with 1 Axes>"
            ]
          },
          "metadata": {
            "needs_background": "light"
          },
          "output_type": "display_data"
        }
      ],
      "source": [
        "y_train_batches2 = np.array(y_train_batches)\n",
        "eta = 1\n",
        "epochs=100\n",
        "batches = np.array(x_train_batches).shape[0]\n",
        "random_state=1\n",
        "random = np.random.RandomState(random_state)\n",
        "first_layer_W = random.normal(loc=0.0, scale=0.1, size=(4, 10))\n",
        "first_layer_b = random.normal(loc=0.0, scale=0.1, size=(1, 10))\n",
        "second_layer_W =random.normal(loc=0.0, scale=0.1, size=(10, 1))\n",
        "second_layer_b = random.normal(loc=0.0, scale=0.1, size=(1, 1))\n",
        "training_errors = []\n",
        "validation_errors = []\n",
        "for epoch in range(epochs):\n",
        "    batch_errors = []\n",
        "    for batch in range (batches):\n",
        "        y = np.array(y_train_batches2[batch])\n",
        "        y = y.reshape((y.shape[0],1)) #convert y from vector to matrix (from (100,) to (100,1))\n",
        "        X = np.array(x_train_batches[batch])\n",
        "        batch_size = X.shape[0] #necessary because last batch is 61 samples not 100\n",
        "        hidden_z, hidden_y, output_z, output_y = forward_propagation(X,first_layer_W, first_layer_b, second_layer_W, second_layer_b)\n",
        "\n",
        "        error = compute_loss(y, output_y)\n",
        "        batch_errors.append(np.mean(error))\n",
        "\n",
        "        dE_dy = compute_dE_dy(y, output_y) #100x1\n",
        "        # errors.append(np.mean(error))\n",
        "        #dE/dy = -(y-y_hat)                reshape to be 10x100 (or(10,61)for last batch) for matmul    100x1\n",
        "        second_layer_W_gradient = np.matmul(np.transpose(hidden_y), (dE_dy * output_y*(1-output_y))) #10,1\n",
        "        #dE/dWi second layer =                  dz_out/dWi                          *  dE/dy_out *        dy_out/dz_out\n",
        "\n",
        "        second_layer_b_gradient = np.sum(dE_dy * output_y*(1-output_y)) #1x1\n",
        "        #dE/db second layer =          dE/dy_out *   dy_out/dz_out (sum over all training examples)\n",
        "                                 #dE/dy *      dy_out/dz_out          reshaping from (100,1) to (1,100) to ease matmul                                 \n",
        "        first_layer_W_gradient = np.transpose(dE_dy * output_y*(1-output_y))#.reshape((1,batch_size)) #1x100\n",
        "        #                            * dz/dy_hidden (that is, the second_layer weights)\n",
        "        \n",
        "        first_layer_W_gradient = (np.matmul(second_layer_W, first_layer_W_gradient))#.reshape((batch_size,10)) #10x1 * 1x100 = 10x100 reshape to 100x10\n",
        "        #                                               * dy_hidden/dz_hidden\n",
        "\n",
        "        first_layer_W_gradient = (np.transpose(first_layer_W_gradient) *  (hidden_y*(1-hidden_y)))#.reshape((batch_size,10)) #100x10\n",
        "        #                                  *dz_hidden/dW of first layer (that is, X)\n",
        "        first_layer_W_gradient = np.matmul(np.transpose(X), first_layer_W_gradient)#4x100 * 100x10 = 4x10\n",
        "        \n",
        "        #same as w gradient but without last step dz_hidden/dw\n",
        "        first_layer_b_gradient = np.sum(np.transpose(np.matmul(second_layer_W, (np.transpose(dE_dy * output_y*(1-output_y))))) * (hidden_y*(1-hidden_y)))\n",
        "\n",
        "        second_layer_W -= (1/batch_size)* eta * second_layer_W_gradient\n",
        "        second_layer_b -= (1/batch_size)*eta * second_layer_b_gradient\n",
        "        first_layer_W -= (1/batch_size)*eta * first_layer_W_gradient\n",
        "        first_layer_b -= (1/batch_size)*eta * first_layer_b_gradient\n",
        "    training_errors.append(sum(batch_errors)/len(batch_errors))\n",
        "    validation_error = calculateValidationError(X_validation_norm, y_validation,first_layer_W, first_layer_b, second_layer_W, second_layer_b)\n",
        "    validation_errors.append(np.mean(validation_error))\n",
        "    ##predict on validation data, calculate metrics \n",
        "\n",
        "\n",
        "#PLOTTING TRAINING ERROR\n",
        "x1=range(0, epochs)\n",
        "y1=training_errors\n",
        "y2=validation_errors\n",
        "plt.plot(x1, y1, label = \"training errors\")\n",
        "plt.plot(x1, y2, label = \"validation errors\")\n",
        "  \n",
        "# naming the x axis\n",
        "plt.xlabel('epochs')\n",
        "# naming the y axis\n",
        "plt.ylabel('errors')\n",
        "# giving a title to my graph\n",
        "plt.title('')\n",
        "  \n",
        "# show a legend on the plot\n",
        "plt.legend()\n",
        "  \n",
        "# function to show the plot\n",
        "plt.show()"
      ]
    },
    {
      "cell_type": "code",
      "execution_count": 119,
      "metadata": {},
      "outputs": [
        {
          "name": "stdout",
          "output_type": "stream",
          "text": [
            "0.0\n",
            "[[0.44615488]]\n"
          ]
        }
      ],
      "source": [
        "print(y_train_batches[0][3])\n",
        "hidden_z, hidden_y, output_z, output_y = forward_propagation(x_train_batches[0][3],first_layer_W, first_layer_b, second_layer_W, second_layer_b)\n",
        "\n",
        "print(output_y)"
      ]
    },
    {
      "cell_type": "code",
      "execution_count": 158,
      "metadata": {},
      "outputs": [
        {
          "data": {
            "text/plain": [
              "array([[1, 2, 3],\n",
              "       [4, 5, 6]])"
            ]
          },
          "execution_count": 158,
          "metadata": {},
          "output_type": "execute_result"
        }
      ],
      "source": [
        "x = np.array([[1,2,3],[4,5,6]])\n",
        "x\n"
      ]
    },
    {
      "cell_type": "code",
      "execution_count": 157,
      "metadata": {},
      "outputs": [
        {
          "data": {
            "text/plain": [
              "array([[1, 2],\n",
              "       [3, 4],\n",
              "       [5, 6]])"
            ]
          },
          "execution_count": 157,
          "metadata": {},
          "output_type": "execute_result"
        }
      ],
      "source": [
        "x.reshape((3,2))"
      ]
    },
    {
      "cell_type": "code",
      "execution_count": 159,
      "metadata": {},
      "outputs": [
        {
          "data": {
            "text/plain": [
              "array([[1, 4],\n",
              "       [2, 5],\n",
              "       [3, 6]])"
            ]
          },
          "execution_count": 159,
          "metadata": {},
          "output_type": "execute_result"
        }
      ],
      "source": [
        "np.transpose(x)"
      ]
    },
    {
      "cell_type": "code",
      "execution_count": null,
      "metadata": {},
      "outputs": [],
      "source": []
    }
  ],
  "metadata": {
    "colab": {
      "provenance": []
    },
    "kernelspec": {
      "display_name": "Python 3",
      "language": "python",
      "name": "python3"
    },
    "language_info": {
      "codemirror_mode": {
        "name": "ipython",
        "version": 3
      },
      "file_extension": ".py",
      "mimetype": "text/x-python",
      "name": "python",
      "nbconvert_exporter": "python",
      "pygments_lexer": "ipython3",
      "version": "3.10.9"
    },
    "vscode": {
      "interpreter": {
        "hash": "5c1f741a4f83aa020b4b2a4d7353a073a4e5e4a855a3258a20da40294ddbf005"
      }
    }
  },
  "nbformat": 4,
  "nbformat_minor": 0
}
